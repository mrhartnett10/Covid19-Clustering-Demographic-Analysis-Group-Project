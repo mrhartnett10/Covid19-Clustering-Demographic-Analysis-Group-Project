{
 "cells": [
  {
   "cell_type": "markdown",
   "metadata": {},
   "source": [
    "### Import"
   ]
  },
  {
   "cell_type": "code",
   "execution_count": 2,
   "metadata": {},
   "outputs": [],
   "source": [
    "import pandas as pd\n",
    "import numpy as np\n",
    "import matplotlib.pyplot as plt\n",
    "import seaborn as sns\n",
    "pd.set_option('display.max_columns', None)\n",
    "plt.style.use('ggplot') \n",
    "\n",
    "from sklearn import cluster\n",
    "from sklearn import metrics\n",
    "from sklearn.metrics import pairwise_distances\n",
    "\n",
    "from sklearn.cluster import KMeans, k_means\n",
    "from sklearn.metrics import silhouette_score"
   ]
  },
  {
   "cell_type": "markdown",
   "metadata": {},
   "source": [
    "### Load Data"
   ]
  },
  {
   "cell_type": "code",
   "execution_count": 3,
   "metadata": {},
   "outputs": [],
   "source": [
    "dmf = pd.read_csv('data/yun_data/output/covid_socio_2020.csv')\n",
    "unemp_covid_df = pd.read_csv('data/yun_data/output/unemployment_covid_2020.csv')\n",
    "covid_df = pd.read_csv('data/yun_data/output/covid_monthly_2020.csv')\n",
    "df3 = pd.read_csv('data/yun_data/output/unemp_rate_2020.csv')\n",
    "df4 = pd.read_csv('data/yun_data/output/cov_unemp_summary.csv')"
   ]
  },
  {
   "cell_type": "markdown",
   "metadata": {},
   "source": [
    "### Modeling : \n",
    "### 1. Clustering Kmeans \n",
    "### n_clusters = 8"
   ]
  },
  {
   "cell_type": "code",
   "execution_count": 4,
   "metadata": {},
   "outputs": [
    {
     "data": {
      "text/plain": [
       "Index(['Name', 'Postal Code', 'Area size', 'Population size',\n",
       "       'Population density', 'Senior Population', 'Young Population',\n",
       "       'Male Population', 'White Population', 'Africa-American Population',\n",
       "       'Hispanic population', 'Internet access', 'High school degree',\n",
       "       'Bachelor degrees', 'Median household income', 'Poverty rate',\n",
       "       'Uninsured', 'Household size', 'House Owner', 'hospital',\n",
       "       'hospital bed', 'ICU bed', 'ventilator usage', 'Nurses',\n",
       "       'Medical Doctors', 'Confirmed', 'Deaths', 'Recovered', 'Active',\n",
       "       'Incident_Rate', 'Total_Test_Results', 'Case_Fatality_Ratio',\n",
       "       'Testing_Rate', 'deaths_per_population', 'recovered_per_population',\n",
       "       'confirmed_per_population', 'active_per_population', 'unemp_year_rate'],\n",
       "      dtype='object')"
      ]
     },
     "execution_count": 4,
     "metadata": {},
     "output_type": "execute_result"
    }
   ],
   "source": [
    "dmf.columns"
   ]
  },
  {
   "cell_type": "code",
   "execution_count": 9,
   "metadata": {
    "scrolled": true
   },
   "outputs": [
    {
     "name": "stdout",
     "output_type": "stream",
     "text": [
      "Predicted clusters to points:  [5 0 7 5 4 7 5 0 0 3 2 0 0 6 7 5 5 5 5 0 7 7 2 7 5 7 0 0 5 0 2 0 3 2 0 6 5\n",
      " 5 6 0 7 0 7 1 5 0 2 7 0 7 0]\n",
      "Location of centroids: \n",
      "[[2.32154750e+05 1.19493188e+06 2.88515087e+02 1.76000000e+01\n",
      "  1.79000000e+01 4.97875000e+01 8.18625000e+01 7.62500000e+00\n",
      "  9.95625000e+00 8.62000000e+01 8.25625000e+00 2.03625000e+01\n",
      "  6.64576875e+04 1.14937500e+01 7.68125000e+00 2.60375000e+00\n",
      "  6.63625000e+01 4.25625000e+01 3.74581250e+03 3.71312500e+02\n",
      "  9.96250000e+01 2.21650000e+04 1.95260625e+04 7.10000000e+00]\n",
      " [6.95662000e+05 2.89958810e+07 4.16809902e+01 1.29000000e+01\n",
      "  2.12000000e+01 4.96000000e+01 7.59000000e+01 1.35000000e+01\n",
      "  3.97000000e+01 8.64000000e+01 1.54000000e+01 2.00000000e+01\n",
      "  6.40340000e+04 1.36000000e+01 1.84000000e+01 2.99000000e+00\n",
      "  6.19000000e+01 6.27000000e+02 8.19110000e+04 8.71900000e+03\n",
      "  1.92100000e+03 3.36520000e+05 2.71565000e+05 7.48000000e+00]\n",
      " [1.35433200e+05 9.70201460e+06 1.30862962e+02 1.62400000e+01\n",
      "  1.83000000e+01 4.89200000e+01 7.02200000e+01 2.16600000e+01\n",
      "  1.11000000e+01 8.66400000e+01 1.03600000e+01 2.12200000e+01\n",
      "  6.82224000e+04 1.18000000e+01 9.26000000e+00 2.67600000e+00\n",
      "  6.60800000e+01 1.42200000e+02 2.64892000e+04 2.42980000e+03\n",
      "  7.01000000e+02 1.30777800e+05 1.21443200e+05 7.85000000e+00]\n",
      " [1.55804500e+05 2.04656490e+07 1.31893349e+02 1.89000000e+01\n",
      "  1.68000000e+01 4.87500000e+01 7.14500000e+01 1.76000000e+01\n",
      "  2.28500000e+01 8.67500000e+01 1.20000000e+01 2.02500000e+01\n",
      "  6.56675000e+04 1.28500000e+01 9.20000000e+00 2.69000000e+00\n",
      "  5.98500000e+01 2.47500000e+02 5.84720000e+04 5.23050000e+03\n",
      "  1.42400000e+03 3.37729000e+05 3.45627500e+05 8.89500000e+00]\n",
      " [4.23967000e+05 3.95122230e+07 9.31964587e+01 1.48000000e+01\n",
      "  1.87000000e+01 4.97000000e+01 6.36000000e+01 7.00000000e+00\n",
      "  3.94000000e+01 9.00000000e+01 1.60000000e+01 2.19000000e+01\n",
      "  8.04400000e+04 1.18000000e+01 7.70000000e+00 3.02000000e+00\n",
      "  5.49000000e+01 4.61000000e+02 8.08930000e+04 8.65200000e+03\n",
      "  1.98600000e+03 4.44964000e+05 5.88052000e+05 1.02400000e+01]\n",
      " [1.62879417e+05 3.67567483e+06 4.21754048e+01 1.64583333e+01\n",
      "  1.91916667e+01 4.92666667e+01 7.86083333e+01 1.47916667e+01\n",
      "  1.06583333e+01 8.43000000e+01 1.10083333e+01 1.81333333e+01\n",
      "  5.94183333e+04 1.39333333e+01 9.15000000e+00 2.67750000e+00\n",
      "  6.60583333e+01 1.11833333e+02 1.31607500e+04 1.22941667e+03\n",
      "  2.94500000e+02 5.82771667e+04 5.09967500e+04 7.55250000e+00]\n",
      " [1.28457667e+05 1.23876367e+07 9.74972904e+01 1.74333333e+01\n",
      "  1.78333333e+01 4.90333333e+01 7.97333333e+01 1.42333333e+01\n",
      "  9.76666667e+00 8.59000000e+01 9.46666667e+00 1.98000000e+01\n",
      "  6.37640000e+04 1.22000000e+01 6.60000000e+00 2.58666667e+00\n",
      "  6.68000000e+01 2.35000000e+02 4.13536667e+04 3.80100000e+03\n",
      "  9.46666667e+02 2.14874000e+05 1.83610333e+05 8.97000000e+00]\n",
      " [1.51883000e+05 6.35455727e+06 7.42666932e+01 1.66818182e+01\n",
      "  1.82454545e+01 4.92454545e+01 7.96636364e+01 1.31454545e+01\n",
      "  1.13818182e+01 8.71181818e+01 9.41818182e+00 2.10909091e+01\n",
      "  6.87746364e+04 1.11727273e+01 7.73636364e+00 2.62727273e+00\n",
      "  6.68727273e+01 1.25000000e+02 1.79827273e+04 1.75118182e+03\n",
      "  4.48181818e+02 1.02250909e+05 9.25401818e+04 7.26909091e+00]]\n"
     ]
    }
   ],
   "source": [
    "# Data for clustering\n",
    "X = dmf[['Area size', 'Population size',\n",
    "       'Population density', 'Senior Population', 'Young Population',\n",
    "       'Male Population', 'White Population', 'Africa-American Population',\n",
    "       'Hispanic population', 'Internet access', 'High school degree',\n",
    "       'Bachelor degrees', 'Median household income', 'Poverty rate',\n",
    "       'Uninsured', 'Household size', 'House Owner', 'hospital',\n",
    "       'hospital bed', 'ICU bed', 'ventilator usage', 'Nurses',\n",
    "       'Medical Doctors','unemp_year_rate']]\n",
    "y = dmf['deaths_per_population']\n",
    "\n",
    "#fit the data\n",
    "model = KMeans()\n",
    "model.fit(X)\n",
    "\n",
    "# Get the labels and centroids for our first clustering model\n",
    "labels = model.labels_\n",
    "centroids = model.cluster_centers_\n",
    "\n",
    "print(\"Predicted clusters to points: \", labels)\n",
    "print(\"Location of centroids: \")\n",
    "print(centroids)"
   ]
  },
  {
   "cell_type": "code",
   "execution_count": 10,
   "metadata": {},
   "outputs": [
    {
     "data": {
      "text/html": [
       "<div>\n",
       "<style scoped>\n",
       "    .dataframe tbody tr th:only-of-type {\n",
       "        vertical-align: middle;\n",
       "    }\n",
       "\n",
       "    .dataframe tbody tr th {\n",
       "        vertical-align: top;\n",
       "    }\n",
       "\n",
       "    .dataframe thead th {\n",
       "        text-align: right;\n",
       "    }\n",
       "</style>\n",
       "<table border=\"1\" class=\"dataframe\">\n",
       "  <thead>\n",
       "    <tr style=\"text-align: right;\">\n",
       "      <th></th>\n",
       "      <th>Name</th>\n",
       "      <th>Postal Code</th>\n",
       "      <th>Area size</th>\n",
       "      <th>Population size</th>\n",
       "      <th>Population density</th>\n",
       "      <th>Senior Population</th>\n",
       "      <th>Young Population</th>\n",
       "      <th>Male Population</th>\n",
       "      <th>White Population</th>\n",
       "      <th>Africa-American Population</th>\n",
       "      <th>Hispanic population</th>\n",
       "      <th>Internet access</th>\n",
       "      <th>High school degree</th>\n",
       "      <th>Bachelor degrees</th>\n",
       "      <th>Median household income</th>\n",
       "      <th>Poverty rate</th>\n",
       "      <th>Uninsured</th>\n",
       "      <th>Household size</th>\n",
       "      <th>House Owner</th>\n",
       "      <th>hospital</th>\n",
       "      <th>hospital bed</th>\n",
       "      <th>ICU bed</th>\n",
       "      <th>ventilator usage</th>\n",
       "      <th>Nurses</th>\n",
       "      <th>Medical Doctors</th>\n",
       "      <th>Confirmed</th>\n",
       "      <th>Deaths</th>\n",
       "      <th>Recovered</th>\n",
       "      <th>Active</th>\n",
       "      <th>Incident_Rate</th>\n",
       "      <th>Total_Test_Results</th>\n",
       "      <th>Case_Fatality_Ratio</th>\n",
       "      <th>Testing_Rate</th>\n",
       "      <th>deaths_per_population</th>\n",
       "      <th>recovered_per_population</th>\n",
       "      <th>confirmed_per_population</th>\n",
       "      <th>active_per_population</th>\n",
       "      <th>unemp_year_rate</th>\n",
       "      <th>labels_result</th>\n",
       "    </tr>\n",
       "  </thead>\n",
       "  <tbody>\n",
       "    <tr>\n",
       "      <th>0</th>\n",
       "      <td>Alabama</td>\n",
       "      <td>AL</td>\n",
       "      <td>135767</td>\n",
       "      <td>4903185</td>\n",
       "      <td>36.114704</td>\n",
       "      <td>17.4</td>\n",
       "      <td>18.3</td>\n",
       "      <td>48.3</td>\n",
       "      <td>69.5</td>\n",
       "      <td>27.8</td>\n",
       "      <td>4.5</td>\n",
       "      <td>81.9</td>\n",
       "      <td>12.9</td>\n",
       "      <td>16.3</td>\n",
       "      <td>51734</td>\n",
       "      <td>15.5</td>\n",
       "      <td>9.7</td>\n",
       "      <td>2.60</td>\n",
       "      <td>68.8</td>\n",
       "      <td>119</td>\n",
       "      <td>18611</td>\n",
       "      <td>1637</td>\n",
       "      <td>383</td>\n",
       "      <td>85746</td>\n",
       "      <td>43429</td>\n",
       "      <td>361226</td>\n",
       "      <td>4827</td>\n",
       "      <td>202137.0</td>\n",
       "      <td>154262.0</td>\n",
       "      <td>7367.170523</td>\n",
       "      <td>1874000.0</td>\n",
       "      <td>1.336283</td>\n",
       "      <td>38220.054923</td>\n",
       "      <td>0.000984</td>\n",
       "      <td>0.041226</td>\n",
       "      <td>0.073672</td>\n",
       "      <td>0.031462</td>\n",
       "      <td>6.13</td>\n",
       "      <td>5</td>\n",
       "    </tr>\n",
       "    <tr>\n",
       "      <th>1</th>\n",
       "      <td>Alaska</td>\n",
       "      <td>AK</td>\n",
       "      <td>1723337</td>\n",
       "      <td>731545</td>\n",
       "      <td>0.424493</td>\n",
       "      <td>12.4</td>\n",
       "      <td>21.0</td>\n",
       "      <td>52.0</td>\n",
       "      <td>71.4</td>\n",
       "      <td>4.7</td>\n",
       "      <td>7.2</td>\n",
       "      <td>88.0</td>\n",
       "      <td>6.4</td>\n",
       "      <td>18.5</td>\n",
       "      <td>75463</td>\n",
       "      <td>10.1</td>\n",
       "      <td>12.2</td>\n",
       "      <td>2.90</td>\n",
       "      <td>64.7</td>\n",
       "      <td>28</td>\n",
       "      <td>1832</td>\n",
       "      <td>193</td>\n",
       "      <td>41</td>\n",
       "      <td>15487</td>\n",
       "      <td>18418</td>\n",
       "      <td>46986</td>\n",
       "      <td>206</td>\n",
       "      <td>7165.0</td>\n",
       "      <td>39615.0</td>\n",
       "      <td>6422.844801</td>\n",
       "      <td>1275750.0</td>\n",
       "      <td>0.438428</td>\n",
       "      <td>174391.185778</td>\n",
       "      <td>0.000282</td>\n",
       "      <td>0.009794</td>\n",
       "      <td>0.064228</td>\n",
       "      <td>0.054153</td>\n",
       "      <td>8.32</td>\n",
       "      <td>0</td>\n",
       "    </tr>\n",
       "    <tr>\n",
       "      <th>2</th>\n",
       "      <td>Arizona</td>\n",
       "      <td>AZ</td>\n",
       "      <td>295234</td>\n",
       "      <td>7278717</td>\n",
       "      <td>24.654061</td>\n",
       "      <td>18.0</td>\n",
       "      <td>18.7</td>\n",
       "      <td>49.7</td>\n",
       "      <td>81.7</td>\n",
       "      <td>6.0</td>\n",
       "      <td>31.7</td>\n",
       "      <td>87.4</td>\n",
       "      <td>12.4</td>\n",
       "      <td>18.8</td>\n",
       "      <td>62055</td>\n",
       "      <td>13.5</td>\n",
       "      <td>11.3</td>\n",
       "      <td>2.71</td>\n",
       "      <td>65.3</td>\n",
       "      <td>125</td>\n",
       "      <td>18388</td>\n",
       "      <td>1882</td>\n",
       "      <td>427</td>\n",
       "      <td>93928</td>\n",
       "      <td>84130</td>\n",
       "      <td>520207</td>\n",
       "      <td>8864</td>\n",
       "      <td>75981.0</td>\n",
       "      <td>435362.0</td>\n",
       "      <td>7146.960103</td>\n",
       "      <td>2834752.0</td>\n",
       "      <td>1.703937</td>\n",
       "      <td>38945.764755</td>\n",
       "      <td>0.001218</td>\n",
       "      <td>0.010439</td>\n",
       "      <td>0.071470</td>\n",
       "      <td>0.059813</td>\n",
       "      <td>7.83</td>\n",
       "      <td>7</td>\n",
       "    </tr>\n",
       "    <tr>\n",
       "      <th>3</th>\n",
       "      <td>Arkansas</td>\n",
       "      <td>AR</td>\n",
       "      <td>137732</td>\n",
       "      <td>3017804</td>\n",
       "      <td>21.910696</td>\n",
       "      <td>17.4</td>\n",
       "      <td>19.2</td>\n",
       "      <td>48.9</td>\n",
       "      <td>79.3</td>\n",
       "      <td>16.7</td>\n",
       "      <td>7.7</td>\n",
       "      <td>80.1</td>\n",
       "      <td>12.5</td>\n",
       "      <td>15.1</td>\n",
       "      <td>48952</td>\n",
       "      <td>16.2</td>\n",
       "      <td>9.1</td>\n",
       "      <td>2.59</td>\n",
       "      <td>65.5</td>\n",
       "      <td>105</td>\n",
       "      <td>12473</td>\n",
       "      <td>914</td>\n",
       "      <td>261</td>\n",
       "      <td>42487</td>\n",
       "      <td>47343</td>\n",
       "      <td>225138</td>\n",
       "      <td>3676</td>\n",
       "      <td>199247.0</td>\n",
       "      <td>22215.0</td>\n",
       "      <td>7460.325455</td>\n",
       "      <td>2051488.0</td>\n",
       "      <td>1.632776</td>\n",
       "      <td>67979.497674</td>\n",
       "      <td>0.001218</td>\n",
       "      <td>0.066024</td>\n",
       "      <td>0.074603</td>\n",
       "      <td>0.007361</td>\n",
       "      <td>6.58</td>\n",
       "      <td>5</td>\n",
       "    </tr>\n",
       "    <tr>\n",
       "      <th>4</th>\n",
       "      <td>California</td>\n",
       "      <td>CA</td>\n",
       "      <td>423967</td>\n",
       "      <td>39512223</td>\n",
       "      <td>93.196459</td>\n",
       "      <td>14.8</td>\n",
       "      <td>18.7</td>\n",
       "      <td>49.7</td>\n",
       "      <td>63.6</td>\n",
       "      <td>7.0</td>\n",
       "      <td>39.4</td>\n",
       "      <td>90.0</td>\n",
       "      <td>16.0</td>\n",
       "      <td>21.9</td>\n",
       "      <td>80440</td>\n",
       "      <td>11.8</td>\n",
       "      <td>7.7</td>\n",
       "      <td>3.02</td>\n",
       "      <td>54.9</td>\n",
       "      <td>461</td>\n",
       "      <td>80893</td>\n",
       "      <td>8652</td>\n",
       "      <td>1986</td>\n",
       "      <td>444964</td>\n",
       "      <td>588052</td>\n",
       "      <td>2325599</td>\n",
       "      <td>25986</td>\n",
       "      <td>34503.0</td>\n",
       "      <td>2265110.0</td>\n",
       "      <td>5798.223502</td>\n",
       "      <td>32855482.0</td>\n",
       "      <td>1.130376</td>\n",
       "      <td>83152.704418</td>\n",
       "      <td>0.000658</td>\n",
       "      <td>0.000873</td>\n",
       "      <td>0.058858</td>\n",
       "      <td>0.057327</td>\n",
       "      <td>10.24</td>\n",
       "      <td>4</td>\n",
       "    </tr>\n",
       "  </tbody>\n",
       "</table>\n",
       "</div>"
      ],
      "text/plain": [
       "         Name Postal Code  Area size  Population size  Population density  \\\n",
       "0     Alabama          AL     135767          4903185           36.114704   \n",
       "1      Alaska          AK    1723337           731545            0.424493   \n",
       "2     Arizona          AZ     295234          7278717           24.654061   \n",
       "3    Arkansas          AR     137732          3017804           21.910696   \n",
       "4  California          CA     423967         39512223           93.196459   \n",
       "\n",
       "   Senior Population  Young Population  Male Population  White Population  \\\n",
       "0               17.4              18.3             48.3              69.5   \n",
       "1               12.4              21.0             52.0              71.4   \n",
       "2               18.0              18.7             49.7              81.7   \n",
       "3               17.4              19.2             48.9              79.3   \n",
       "4               14.8              18.7             49.7              63.6   \n",
       "\n",
       "   Africa-American Population  Hispanic population  Internet access  \\\n",
       "0                        27.8                  4.5             81.9   \n",
       "1                         4.7                  7.2             88.0   \n",
       "2                         6.0                 31.7             87.4   \n",
       "3                        16.7                  7.7             80.1   \n",
       "4                         7.0                 39.4             90.0   \n",
       "\n",
       "   High school degree  Bachelor degrees  Median household income  \\\n",
       "0                12.9              16.3                    51734   \n",
       "1                 6.4              18.5                    75463   \n",
       "2                12.4              18.8                    62055   \n",
       "3                12.5              15.1                    48952   \n",
       "4                16.0              21.9                    80440   \n",
       "\n",
       "   Poverty rate  Uninsured  Household size  House Owner  hospital  \\\n",
       "0          15.5        9.7            2.60         68.8       119   \n",
       "1          10.1       12.2            2.90         64.7        28   \n",
       "2          13.5       11.3            2.71         65.3       125   \n",
       "3          16.2        9.1            2.59         65.5       105   \n",
       "4          11.8        7.7            3.02         54.9       461   \n",
       "\n",
       "   hospital bed  ICU bed  ventilator usage  Nurses  Medical Doctors  \\\n",
       "0         18611     1637               383   85746            43429   \n",
       "1          1832      193                41   15487            18418   \n",
       "2         18388     1882               427   93928            84130   \n",
       "3         12473      914               261   42487            47343   \n",
       "4         80893     8652              1986  444964           588052   \n",
       "\n",
       "   Confirmed  Deaths  Recovered     Active  Incident_Rate  Total_Test_Results  \\\n",
       "0     361226    4827   202137.0   154262.0    7367.170523           1874000.0   \n",
       "1      46986     206     7165.0    39615.0    6422.844801           1275750.0   \n",
       "2     520207    8864    75981.0   435362.0    7146.960103           2834752.0   \n",
       "3     225138    3676   199247.0    22215.0    7460.325455           2051488.0   \n",
       "4    2325599   25986    34503.0  2265110.0    5798.223502          32855482.0   \n",
       "\n",
       "   Case_Fatality_Ratio   Testing_Rate  deaths_per_population  \\\n",
       "0             1.336283   38220.054923               0.000984   \n",
       "1             0.438428  174391.185778               0.000282   \n",
       "2             1.703937   38945.764755               0.001218   \n",
       "3             1.632776   67979.497674               0.001218   \n",
       "4             1.130376   83152.704418               0.000658   \n",
       "\n",
       "   recovered_per_population  confirmed_per_population  active_per_population  \\\n",
       "0                  0.041226                  0.073672               0.031462   \n",
       "1                  0.009794                  0.064228               0.054153   \n",
       "2                  0.010439                  0.071470               0.059813   \n",
       "3                  0.066024                  0.074603               0.007361   \n",
       "4                  0.000873                  0.058858               0.057327   \n",
       "\n",
       "   unemp_year_rate  labels_result  \n",
       "0             6.13              5  \n",
       "1             8.32              0  \n",
       "2             7.83              7  \n",
       "3             6.58              5  \n",
       "4            10.24              4  "
      ]
     },
     "execution_count": 10,
     "metadata": {},
     "output_type": "execute_result"
    }
   ],
   "source": [
    "#create third column\n",
    "dmf['labels_result'] = labels\n",
    "dmf.head()"
   ]
  },
  {
   "cell_type": "code",
   "execution_count": 11,
   "metadata": {},
   "outputs": [
    {
     "data": {
      "text/plain": [
       "0    16\n",
       "5    12\n",
       "7    11\n",
       "2     5\n",
       "6     3\n",
       "3     2\n",
       "4     1\n",
       "1     1\n",
       "Name: labels_result, dtype: int64"
      ]
     },
     "execution_count": 11,
     "metadata": {},
     "output_type": "execute_result"
    }
   ],
   "source": [
    "dmf.labels_result.value_counts()"
   ]
  },
  {
   "cell_type": "code",
   "execution_count": 12,
   "metadata": {},
   "outputs": [
    {
     "data": {
      "text/plain": [
       "0.5789603745679776"
      ]
     },
     "execution_count": 12,
     "metadata": {},
     "output_type": "execute_result"
    }
   ],
   "source": [
    "# Compute the silouette score and visually examine the results of the 8 clusters.\n",
    "silhouette_score(X, labels)"
   ]
  },
  {
   "cell_type": "markdown",
   "metadata": {},
   "source": [
    "### n_clusters = 2"
   ]
  },
  {
   "cell_type": "code",
   "execution_count": 16,
   "metadata": {
    "scrolled": true
   },
   "outputs": [
    {
     "name": "stdout",
     "output_type": "stream",
     "text": [
      "Predicted clusters to points:  [0 0 0 0 1 0 0 0 0 1 0 0 0 0 0 0 0 0 0 0 0 0 0 0 0 0 0 0 0 0 0 0 1 0 0 0 0\n",
      " 0 0 0 0 0 0 1 0 0 0 0 0 0 0]\n",
      "Location of centroids: \n",
      "[[1.78771936e+05 4.65532172e+06 1.46512480e+02 1.69382979e+01\n",
      "  1.83489362e+01 4.93872340e+01 7.91425532e+01 1.26617021e+01\n",
      "  1.05787234e+01 8.59574468e+01 9.53191489e+00 2.00191489e+01\n",
      "  6.52184681e+04 1.21191489e+01 8.16808511e+00 2.63468085e+00\n",
      "  6.64021277e+01 1.02425532e+02 1.43016809e+04 1.35125532e+03\n",
      "  3.49000000e+02 7.39837660e+04 6.59652553e+04 3.51063830e+00]\n",
      " [3.57809500e+05 2.73598505e+07 9.96660367e+01 1.63750000e+01\n",
      "  1.83750000e+01 4.92000000e+01 7.06000000e+01 1.39250000e+01\n",
      "  3.12000000e+01 8.74750000e+01 1.38500000e+01 2.06000000e+01\n",
      "  6.89522500e+04 1.27750000e+01 1.11250000e+01 2.84750000e+00\n",
      "  5.91250000e+01 3.95750000e+02 6.99370000e+04 6.95800000e+03\n",
      "  1.68875000e+03 3.64235500e+05 3.87718000e+05 2.75000000e+00]]\n"
     ]
    }
   ],
   "source": [
    "# Data for clustering\n",
    "X = dmf.drop(columns = ['Name','Postal Code','Confirmed','Deaths','Recovered','Active',\n",
    "                        'Incident_Rate','Total_Test_Results',\n",
    "                         'Case_Fatality_Ratio','Testing_Rate','Testing_Rate', \n",
    "                        'deaths_per_population', 'recovered_per_population',\n",
    "                        'confirmed_per_population', 'active_per_population', 'unemp_year_rate'])\n",
    "y = dmf['deaths_per_population']\n",
    "\n",
    "#fit the data\n",
    "model = KMeans(n_clusters = 2)\n",
    "model.fit(X)\n",
    "\n",
    "# Get the labels and centroids for our first clustering model\n",
    "labels = model.labels_\n",
    "centroids = model.cluster_centers_\n",
    "\n",
    "print(\"Predicted clusters to points: \", labels)\n",
    "print(\"Location of centroids: \")\n",
    "print(centroids)"
   ]
  },
  {
   "cell_type": "code",
   "execution_count": 17,
   "metadata": {},
   "outputs": [
    {
     "data": {
      "text/plain": [
       "0.7857204286117349"
      ]
     },
     "execution_count": 17,
     "metadata": {},
     "output_type": "execute_result"
    }
   ],
   "source": [
    "silhouette_score(X, labels)"
   ]
  },
  {
   "cell_type": "markdown",
   "metadata": {},
   "source": [
    "### n_clusters = 4"
   ]
  },
  {
   "cell_type": "code",
   "execution_count": 18,
   "metadata": {
    "scrolled": true
   },
   "outputs": [
    {
     "name": "stdout",
     "output_type": "stream",
     "text": [
      "Predicted clusters to points:  [2 2 0 2 3 0 2 2 2 1 0 2 2 0 0 2 2 2 2 2 0 0 0 0 2 0 2 2 2 2 0 2 1 0 2 0 2\n",
      " 2 0 2 2 2 0 1 2 2 0 0 2 0 2]\n",
      "Location of centroids: \n",
      "[[1.47239944e+05 8.35691106e+06 9.45365275e+01 1.66000000e+01\n",
      "  1.82111111e+01 4.91722222e+01 7.76555556e+01 1.48666667e+01\n",
      "  1.13444444e+01 8.70166667e+01 9.56111111e+00 2.10611111e+01\n",
      "  6.84832222e+04 1.13722222e+01 7.80000000e+00 2.63666667e+00\n",
      "  6.64500000e+01 1.50000000e+02 2.43843889e+04 2.30900000e+03\n",
      "  6.05000000e+02 1.30659944e+05 1.17842333e+05 5.44444444e+00]\n",
      " [3.35757000e+05 2.33090597e+07 1.01822563e+02 1.69000000e+01\n",
      "  1.82666667e+01 4.90333333e+01 7.29333333e+01 1.62333333e+01\n",
      "  2.84666667e+01 8.66333333e+01 1.31333333e+01 2.01666667e+01\n",
      "  6.51230000e+04 1.31000000e+01 1.22666667e+01 2.79000000e+00\n",
      "  6.05333333e+01 3.74000000e+02 6.62850000e+04 6.39333333e+03\n",
      "  1.58966667e+03 3.37326000e+05 3.20940000e+05 2.33333333e+00]\n",
      " [1.98343517e+05 2.35778352e+06 1.78773416e+02 1.71482759e+01\n",
      "  1.84344828e+01 4.95206897e+01 8.00655172e+01 1.12931034e+01\n",
      "  1.01034483e+01 8.53000000e+01 9.51379310e+00 1.93724138e+01\n",
      "  6.31920690e+04 1.25827586e+01 8.39655172e+00 2.63344828e+00\n",
      "  6.63724138e+01 7.28965517e+01 8.04344828e+03 7.56793103e+02\n",
      "  1.90103448e+02 3.88054483e+04 3.37656897e+04 2.31034483e+00]\n",
      " [4.23967000e+05 3.95122230e+07 9.31964587e+01 1.48000000e+01\n",
      "  1.87000000e+01 4.97000000e+01 6.36000000e+01 7.00000000e+00\n",
      "  3.94000000e+01 9.00000000e+01 1.60000000e+01 2.19000000e+01\n",
      "  8.04400000e+04 1.18000000e+01 7.70000000e+00 3.02000000e+00\n",
      "  5.49000000e+01 4.61000000e+02 8.08930000e+04 8.65200000e+03\n",
      "  1.98600000e+03 4.44964000e+05 5.88052000e+05 4.00000000e+00]]\n"
     ]
    }
   ],
   "source": [
    "# Data for clustering\n",
    "X = dmf.drop(columns = ['Name','Postal Code','Confirmed','Deaths','Recovered','Active',\n",
    "                        'Incident_Rate','Total_Test_Results',\n",
    "                         'Case_Fatality_Ratio','Testing_Rate','Testing_Rate', \n",
    "                        'deaths_per_population', 'recovered_per_population',\n",
    "                        'confirmed_per_population', 'active_per_population', 'unemp_year_rate'])\n",
    "y = dmf['deaths_per_population']\n",
    "\n",
    "#fit the data\n",
    "model = KMeans(n_clusters = 4)\n",
    "model.fit(X)\n",
    "\n",
    "# Get the labels and centroids for our first clustering model\n",
    "labels = model.labels_\n",
    "centroids = model.cluster_centers_\n",
    "\n",
    "print(\"Predicted clusters to points: \", labels)\n",
    "print(\"Location of centroids: \")\n",
    "print(centroids)"
   ]
  },
  {
   "cell_type": "code",
   "execution_count": 19,
   "metadata": {},
   "outputs": [
    {
     "data": {
      "text/plain": [
       "0.5797803853370587"
      ]
     },
     "execution_count": 19,
     "metadata": {},
     "output_type": "execute_result"
    }
   ],
   "source": [
    "silhouette_score(X, labels)"
   ]
  },
  {
   "cell_type": "markdown",
   "metadata": {},
   "source": [
    "### n_clusters = 6"
   ]
  },
  {
   "cell_type": "code",
   "execution_count": 20,
   "metadata": {
    "scrolled": true
   },
   "outputs": [
    {
     "name": "stdout",
     "output_type": "stream",
     "text": [
      "Predicted clusters to points:  [3 2 3 2 4 3 2 2 2 5 0 2 2 0 3 2 2 3 3 2 3 3 0 3 2 3 2 2 2 2 0 2 5 0 2 0 3\n",
      " 3 0 2 3 2 3 1 2 2 0 3 2 3 2]\n",
      "Location of centroids: \n",
      "[[1.32817375e+05 1.07091229e+07 1.18350835e+02 1.66875000e+01\n",
      "  1.81250000e+01 4.89625000e+01 7.37875000e+01 1.88750000e+01\n",
      "  1.06000000e+01 8.63625000e+01 1.00250000e+01 2.06875000e+01\n",
      "  6.65505000e+04 1.19500000e+01 8.26250000e+00 2.64250000e+00\n",
      "  6.63500000e+01 1.77000000e+02 3.20633750e+04 2.94400000e+03\n",
      "  7.93125000e+02 1.62313875e+05 1.44755875e+05 3.50000000e+00]\n",
      " [6.95662000e+05 2.89958810e+07 4.16809902e+01 1.29000000e+01\n",
      "  2.12000000e+01 4.96000000e+01 7.59000000e+01 1.35000000e+01\n",
      "  3.97000000e+01 8.64000000e+01 1.54000000e+01 2.00000000e+01\n",
      "  6.40340000e+04 1.36000000e+01 1.84000000e+01 2.99000000e+00\n",
      "  6.19000000e+01 6.27000000e+02 8.19110000e+04 8.71900000e+03\n",
      "  1.92100000e+03 3.36520000e+05 2.71565000e+05 1.00000000e+00]\n",
      " [2.11178739e+05 1.78402817e+06 2.16124511e+02 1.71521739e+01\n",
      "  1.84130435e+01 4.96695652e+01 8.10391304e+01 9.41739130e+00\n",
      "  1.08260870e+01 8.57304348e+01 8.88260870e+00 1.99173913e+01\n",
      "  6.52058261e+04 1.19000000e+01 8.09565217e+00 2.63869565e+00\n",
      "  6.62521739e+01 5.87391304e+01 5.90843478e+03 5.53913043e+02\n",
      "  1.40086957e+02 3.08902174e+04 2.66221304e+04 1.52173913e+00]\n",
      " [1.55164438e+05 5.75590562e+06 6.05260080e+01 1.67562500e+01\n",
      "  1.83687500e+01 4.91937500e+01 7.90937500e+01 1.42187500e+01\n",
      "  1.02125000e+01 8.60812500e+01 1.02187500e+01 1.98312500e+01\n",
      "  6.45706250e+04 1.25187500e+01 8.22500000e+00 2.62500000e+00\n",
      "  6.66437500e+01 1.27937500e+02 1.74861250e+04 1.70106250e+03\n",
      "  4.27250000e+02 9.17656875e+04 8.31256875e+04 6.37500000e+00]\n",
      " [4.23967000e+05 3.95122230e+07 9.31964587e+01 1.48000000e+01\n",
      "  1.87000000e+01 4.97000000e+01 6.36000000e+01 7.00000000e+00\n",
      "  3.94000000e+01 9.00000000e+01 1.60000000e+01 2.19000000e+01\n",
      "  8.04400000e+04 1.18000000e+01 7.70000000e+00 3.02000000e+00\n",
      "  5.49000000e+01 4.61000000e+02 8.08930000e+04 8.65200000e+03\n",
      "  1.98600000e+03 4.44964000e+05 5.88052000e+05 4.00000000e+00]\n",
      " [1.55804500e+05 2.04656490e+07 1.31893349e+02 1.89000000e+01\n",
      "  1.68000000e+01 4.87500000e+01 7.14500000e+01 1.76000000e+01\n",
      "  2.28500000e+01 8.67500000e+01 1.20000000e+01 2.02500000e+01\n",
      "  6.56675000e+04 1.28500000e+01 9.20000000e+00 2.69000000e+00\n",
      "  5.98500000e+01 2.47500000e+02 5.84720000e+04 5.23050000e+03\n",
      "  1.42400000e+03 3.37729000e+05 3.45627500e+05 3.00000000e+00]]\n"
     ]
    }
   ],
   "source": [
    "# Data for clustering\n",
    "X = dmf.drop(columns = ['Name','Postal Code','Confirmed','Deaths','Recovered','Active',\n",
    "                        'Incident_Rate','Total_Test_Results',\n",
    "                         'Case_Fatality_Ratio','Testing_Rate','Testing_Rate', \n",
    "                        'deaths_per_population', 'recovered_per_population',\n",
    "                        'confirmed_per_population', 'active_per_population', 'unemp_year_rate'])\n",
    "y = dmf['deaths_per_population']\n",
    "\n",
    "#fit the data\n",
    "model = KMeans(n_clusters = 6)\n",
    "model.fit(X)\n",
    "\n",
    "# Get the labels and centroids for our first clustering model\n",
    "labels = model.labels_\n",
    "centroids = model.cluster_centers_\n",
    "\n",
    "print(\"Predicted clusters to points: \", labels)\n",
    "print(\"Location of centroids: \")\n",
    "print(centroids)"
   ]
  },
  {
   "cell_type": "code",
   "execution_count": 21,
   "metadata": {},
   "outputs": [
    {
     "data": {
      "text/plain": [
       "0.5925557868011548"
      ]
     },
     "execution_count": 21,
     "metadata": {},
     "output_type": "execute_result"
    }
   ],
   "source": [
    "silhouette_score(X, labels)"
   ]
  },
  {
   "cell_type": "markdown",
   "metadata": {},
   "source": [
    "### n_clusters = 10"
   ]
  },
  {
   "cell_type": "code",
   "execution_count": 22,
   "metadata": {
    "scrolled": true
   },
   "outputs": [
    {
     "name": "stdout",
     "output_type": "stream",
     "text": [
      "Predicted clusters to points:  [2 5 0 9 1 7 9 5 5 4 8 5 5 3 7 9 9 2 2 5 7 7 8 7 9 7 5 5 9 5 0 5 4 8 5 3 2\n",
      " 2 3 5 2 5 7 6 9 5 0 0 5 7 5]\n",
      "Location of centroids: \n",
      "[[ 1.53318250e+05  8.07782975e+06  1.34027362e+02  1.66000000e+01\n",
      "   1.83000000e+01  4.94500000e+01  7.52250000e+01  1.20000000e+01\n",
      "   1.88250000e+01  8.88000000e+01  1.01000000e+01  2.22750000e+01\n",
      "   7.57372500e+04  1.06000000e+01  8.42500000e+00  2.70750000e+00\n",
      "   6.44500000e+01  1.15750000e+02  2.10922500e+04  1.83675000e+03\n",
      "   5.43000000e+02  1.09994500e+05  1.06629000e+05  4.50000000e+00]\n",
      " [ 4.23967000e+05  3.95122230e+07  9.31964587e+01  1.48000000e+01\n",
      "   1.87000000e+01  4.97000000e+01  6.36000000e+01  7.00000000e+00\n",
      "   3.94000000e+01  9.00000000e+01  1.60000000e+01  2.19000000e+01\n",
      "   8.04400000e+04  1.18000000e+01  7.70000000e+00  3.02000000e+00\n",
      "   5.49000000e+01  4.61000000e+02  8.08930000e+04  8.65200000e+03\n",
      "   1.98600000e+03  4.44964000e+05  5.88052000e+05  4.00000000e+00]\n",
      " [ 1.49141833e+05  4.55717900e+06  3.55942194e+01  1.71333333e+01\n",
      "   1.85166667e+01  4.89500000e+01  7.63333333e+01  1.84833333e+01\n",
      "   7.33333333e+00  8.36500000e+01  1.19333333e+01  1.72833333e+01\n",
      "   5.54726667e+04  1.52000000e+01  9.55000000e+00  2.61333333e+00\n",
      "   6.68333333e+01  1.27166667e+02  1.62276667e+04  1.53450000e+03\n",
      "   3.81833333e+02  6.91471667e+04  6.11493333e+04  5.33333333e+00]\n",
      " [ 1.28457667e+05  1.23876367e+07  9.74972904e+01  1.74333333e+01\n",
      "   1.78333333e+01  4.90333333e+01  7.97333333e+01  1.42333333e+01\n",
      "   9.76666667e+00  8.59000000e+01  9.46666667e+00  1.98000000e+01\n",
      "   6.37640000e+04  1.22000000e+01  6.60000000e+00  2.58666667e+00\n",
      "   6.68000000e+01  2.35000000e+02  4.13536667e+04  3.80100000e+03\n",
      "   9.46666667e+02  2.14874000e+05  1.83610333e+05  6.00000000e+00]\n",
      " [ 1.55804500e+05  2.04656490e+07  1.31893349e+02  1.89000000e+01\n",
      "   1.68000000e+01  4.87500000e+01  7.14500000e+01  1.76000000e+01\n",
      "   2.28500000e+01  8.67500000e+01  1.20000000e+01  2.02500000e+01\n",
      "   6.56675000e+04  1.28500000e+01  9.20000000e+00  2.69000000e+00\n",
      "   5.98500000e+01  2.47500000e+02  5.84720000e+04  5.23050000e+03\n",
      "   1.42400000e+03  3.37729000e+05  3.45627500e+05  3.00000000e+00]\n",
      " [ 2.32154750e+05  1.19493188e+06  2.88515087e+02  1.76000000e+01\n",
      "   1.79000000e+01  4.97875000e+01  8.18625000e+01  7.62500000e+00\n",
      "   9.95625000e+00  8.62000000e+01  8.25625000e+00  2.03625000e+01\n",
      "   6.64576875e+04  1.14937500e+01  7.68125000e+00  2.60375000e+00\n",
      "   6.63625000e+01  4.25625000e+01  3.74581250e+03  3.71312500e+02\n",
      "   9.96250000e+01  2.21650000e+04  1.95260625e+04 -1.33226763e-15]\n",
      " [ 6.95662000e+05  2.89958810e+07  4.16809902e+01  1.29000000e+01\n",
      "   2.12000000e+01  4.96000000e+01  7.59000000e+01  1.35000000e+01\n",
      "   3.97000000e+01  8.64000000e+01  1.54000000e+01  2.00000000e+01\n",
      "   6.40340000e+04  1.36000000e+01  1.84000000e+01  2.99000000e+00\n",
      "   6.19000000e+01  6.27000000e+02  8.19110000e+04  8.71900000e+03\n",
      "   1.92100000e+03  3.36520000e+05  2.71565000e+05  1.00000000e+00]\n",
      " [ 1.38485625e+05  6.23222575e+06  8.61199503e+01  1.64250000e+01\n",
      "   1.82250000e+01  4.92125000e+01  8.07875000e+01  1.31250000e+01\n",
      "   9.33750000e+00  8.70750000e+01  8.90000000e+00  2.15000000e+01\n",
      "   6.99440000e+04  1.07250000e+01  7.05000000e+00  2.61875000e+00\n",
      "   6.71125000e+01  1.30375000e+02  1.82922500e+04  1.80537500e+03\n",
      "   4.60125000e+02  1.06739250e+05  9.27612500e+04  7.00000000e+00]\n",
      " [ 1.81262667e+05  1.03641213e+07  6.13655239e+01  1.62333333e+01\n",
      "   1.84333333e+01  4.88333333e+01  7.04666667e+01  2.39666667e+01\n",
      "   8.30000000e+00  8.56000000e+01  1.07000000e+01  1.95333333e+01\n",
      "   5.96350000e+04  1.33000000e+01  1.01666667e+01  2.64000000e+00\n",
      "   6.70000000e+01  1.63000000e+02  2.80503333e+04  2.78966667e+03\n",
      "   7.32333333e+02  1.37788333e+05  1.33908333e+05  2.00000000e+00]\n",
      " [ 1.63233571e+05  3.13053400e+06  5.06603364e+01  1.61285714e+01\n",
      "   1.95857143e+01  4.94000000e+01  7.91571429e+01  1.35142857e+01\n",
      "   1.28142857e+01  8.46571429e+01  1.03142857e+01  1.89000000e+01\n",
      "   6.23444286e+04  1.28285714e+01  9.04285714e+00  2.71857143e+00\n",
      "   6.60000000e+01  9.57142857e+01  1.08515714e+04  9.71285714e+02\n",
      "   2.32571429e+02  5.08335714e+04  4.28417143e+04  5.00000000e+00]]\n"
     ]
    }
   ],
   "source": [
    "# Data for clustering\n",
    "X = dmf.drop(columns = ['Name','Postal Code','Confirmed','Deaths','Recovered','Active',\n",
    "                        'Incident_Rate','Total_Test_Results',\n",
    "                         'Case_Fatality_Ratio','Testing_Rate','Testing_Rate', \n",
    "                        'deaths_per_population', 'recovered_per_population',\n",
    "                        'confirmed_per_population', 'active_per_population', 'unemp_year_rate'])\n",
    "y = dmf['deaths_per_population']\n",
    "\n",
    "#fit the data\n",
    "model = KMeans(n_clusters = 10)\n",
    "model.fit(X)\n",
    "\n",
    "# Get the labels and centroids for our first clustering model\n",
    "labels = model.labels_\n",
    "centroids = model.cluster_centers_\n",
    "\n",
    "print(\"Predicted clusters to points: \", labels)\n",
    "print(\"Location of centroids: \")\n",
    "print(centroids)"
   ]
  },
  {
   "cell_type": "code",
   "execution_count": 23,
   "metadata": {},
   "outputs": [
    {
     "data": {
      "text/plain": [
       "0.5593177078492013"
      ]
     },
     "execution_count": 23,
     "metadata": {},
     "output_type": "execute_result"
    }
   ],
   "source": [
    "silhouette_score(X, labels)"
   ]
  },
  {
   "cell_type": "code",
   "execution_count": null,
   "metadata": {},
   "outputs": [],
   "source": []
  },
  {
   "cell_type": "code",
   "execution_count": null,
   "metadata": {},
   "outputs": [],
   "source": []
  }
 ],
 "metadata": {
  "kernelspec": {
   "display_name": "Python 3",
   "language": "python",
   "name": "python3"
  },
  "language_info": {
   "codemirror_mode": {
    "name": "ipython",
    "version": 3
   },
   "file_extension": ".py",
   "mimetype": "text/x-python",
   "name": "python",
   "nbconvert_exporter": "python",
   "pygments_lexer": "ipython3",
   "version": "3.8.5"
  }
 },
 "nbformat": 4,
 "nbformat_minor": 4
}
