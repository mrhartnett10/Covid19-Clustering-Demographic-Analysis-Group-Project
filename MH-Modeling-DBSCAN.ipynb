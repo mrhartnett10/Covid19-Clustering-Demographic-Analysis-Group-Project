{
 "cells": [
  {
   "cell_type": "markdown",
   "metadata": {},
   "source": [
    "**Library Imports:**"
   ]
  },
  {
   "cell_type": "code",
   "execution_count": 351,
   "metadata": {},
   "outputs": [],
   "source": [
    "import pandas as pd\n",
    "import matplotlib.pyplot as plt\n",
    "import seaborn as sns\n",
    "import numpy as np\n",
    "\n",
    "from sklearn.preprocessing import StandardScaler \n",
    "from sklearn.model_selection import train_test_split, GridSearchCV\n",
    "from sklearn.linear_model import LinearRegression, LogisticRegression, Ridge, RidgeCV, Lasso, LassoCV\n",
    "from sklearn.neighbors import KNeighborsRegressor\n",
    "from sklearn.ensemble import BaggingRegressor\n",
    "from sklearn.svm import SVR\n",
    "from sklearn.cluster import DBSCAN, KMeans"
   ]
  },
  {
   "cell_type": "markdown",
   "metadata": {},
   "source": [
    "**Data Imports:**"
   ]
  },
  {
   "cell_type": "code",
   "execution_count": 352,
   "metadata": {},
   "outputs": [],
   "source": [
    "df = pd.read_csv('data/Socioeconomic Data/Socioeconomic determinants/socioeconomic determinant for state.csv')\n",
    "df_2 = pd.read_csv('data/csse_covid_19_daily_reports_us/12-31-2020.csv')\n",
    "unemp_covid_df = pd.read_csv('data/yun_data/output/unemployment_covid_2020.csv')\n",
    "covid_df = pd.read_csv('data/yun_data/output/covid_monthly_2020.csv')\n",
    "df3 = pd.read_csv('data/yun_data/output/unemp_rate_2020.csv')\n",
    "df4 = pd.read_csv('data/yun_data/output/cov_unemp_summary.csv')\n",
    "df5 = pd.read_csv('data/yun_data/output/covid_socio_2020.csv')"
   ]
  },
  {
   "cell_type": "code",
   "execution_count": 353,
   "metadata": {},
   "outputs": [],
   "source": [
    "#set panda options to max display to view all columns:\n",
    "pd.options.display.max_columns = None"
   ]
  },
  {
   "cell_type": "markdown",
   "metadata": {},
   "source": [
    "## Modeling:"
   ]
  },
  {
   "cell_type": "markdown",
   "metadata": {},
   "source": [
    "For modeling purposes, since we don't necessarily have an output that we are either classifying or predicting, we have elected to utilize unsupervised modeling through clustering. The advantages of using clustering will be to identify groups that exist within our data and try and distinguish any identifying features that supports our conclusions discovered through EDA. Clustering in genreal attempts to group observations (data) with the notion that clusters of the same group are more similar than clusters of a different group. Ideally we would like to create two or three clusters that will allow us to draw comparisons easier and filter out any trends that would influence our recommendations given to the Covid resource agency. For clustering methods we will explore KMeans and DBSCAN. "
   ]
  },
  {
   "cell_type": "markdown",
   "metadata": {},
   "source": [
    "### DBSCAN"
   ]
  },
  {
   "cell_type": "markdown",
   "metadata": {},
   "source": [
    "DBSCAN pictures from: https://git.generalassemb.ly/DSIR-20201214-E/lesson-dbscan"
   ]
  },
  {
   "cell_type": "markdown",
   "metadata": {},
   "source": [
    "<img src='./assets/Screen Shot 2021-02-20 at 6.25.46 PM.png'>"
   ]
  },
  {
   "cell_type": "markdown",
   "metadata": {},
   "source": [
    "DBSCAN is somewhat limited when it comes to clustering observations that may not be overly distinct in separation. So for something as complex as states it will be challenging, but we should be able to at least create some degree of clusters that will provide us some intel on where to best allocate some of sources. Using our findings from our EDA let's create a feature dataframe for some of the determinants that we noticed to be features of possible concern. "
   ]
  },
  {
   "cell_type": "code",
   "execution_count": 354,
   "metadata": {},
   "outputs": [],
   "source": [
    "features=pd.DataFrame(df5[['Median household income', 'Poverty rate', 'hospital', \n",
    "                       'White Population', 'Africa-American Population',\n",
    "                       'Hispanic population', 'Deaths',\n",
    "                       'Case_Fatality_Ratio', 'deaths_per_population',\n",
    "                      'confirmed_per_population', 'unemp_year_rate']])"
   ]
  },
  {
   "cell_type": "code",
   "execution_count": 355,
   "metadata": {},
   "outputs": [],
   "source": [
    "#Since many of these metrics are measured on varying scales, it's important to standardized our data:\n",
    "ss = StandardScaler()\n",
    "X_scaled = ss.fit_transform(features)"
   ]
  },
  {
   "cell_type": "markdown",
   "metadata": {},
   "source": [
    "Another challenge of DBSCAN is tuning the parameters. Through some trial and error we were able to estanlish our epsilon along with the min_samples so that it would give us 4 total clusters. It's important to note that DBSCAN will also determine a 'noise' cluster denoted as -1, so when analyzing the results, we should drop that column."
   ]
  },
  {
   "cell_type": "code",
   "execution_count": 356,
   "metadata": {},
   "outputs": [],
   "source": [
    "#instantiating and setting the model paramters:\n",
    "dbscan = DBSCAN(eps=2.2, min_samples=3)\n",
    "\n",
    "#fitting the model to our scaled data:\n",
    "dbscan.fit(X_scaled)\n",
    "\n",
    "#creating a cluster column with the labels that our model was able to create:\n",
    "features['cluster'] = dbscan.labels_"
   ]
  },
  {
   "cell_type": "markdown",
   "metadata": {},
   "source": [
    "Next we will want to groupby our clusters to examine the mean values across our two clusters. Hopefully we will be able to uncover some distinctions between the two clusters that will provide support for our final recommendations. Don't forget to drop the noise column! "
   ]
  },
  {
   "cell_type": "code",
   "execution_count": 357,
   "metadata": {},
   "outputs": [
    {
     "data": {
      "text/html": [
       "<div>\n",
       "<style scoped>\n",
       "    .dataframe tbody tr th:only-of-type {\n",
       "        vertical-align: middle;\n",
       "    }\n",
       "\n",
       "    .dataframe tbody tr th {\n",
       "        vertical-align: top;\n",
       "    }\n",
       "\n",
       "    .dataframe thead th {\n",
       "        text-align: right;\n",
       "    }\n",
       "</style>\n",
       "<table border=\"1\" class=\"dataframe\">\n",
       "  <thead>\n",
       "    <tr style=\"text-align: right;\">\n",
       "      <th>cluster</th>\n",
       "      <th>0</th>\n",
       "      <th>1</th>\n",
       "      <th>2</th>\n",
       "    </tr>\n",
       "  </thead>\n",
       "  <tbody>\n",
       "    <tr>\n",
       "      <th>Median household income</th>\n",
       "      <td>62974.718750</td>\n",
       "      <td>62865.250000</td>\n",
       "      <td>83475.666667</td>\n",
       "    </tr>\n",
       "    <tr>\n",
       "      <th>Poverty rate</th>\n",
       "      <td>11.846875</td>\n",
       "      <td>12.300000</td>\n",
       "      <td>9.533333</td>\n",
       "    </tr>\n",
       "    <tr>\n",
       "      <th>hospital</th>\n",
       "      <td>101.375000</td>\n",
       "      <td>223.500000</td>\n",
       "      <td>83.000000</td>\n",
       "    </tr>\n",
       "    <tr>\n",
       "      <th>White Population</th>\n",
       "      <td>83.756250</td>\n",
       "      <td>78.450000</td>\n",
       "      <td>75.833333</td>\n",
       "    </tr>\n",
       "    <tr>\n",
       "      <th>Africa-American Population</th>\n",
       "      <td>10.243750</td>\n",
       "      <td>15.300000</td>\n",
       "      <td>12.733333</td>\n",
       "    </tr>\n",
       "    <tr>\n",
       "      <th>Hispanic population</th>\n",
       "      <td>7.778125</td>\n",
       "      <td>14.250000</td>\n",
       "      <td>16.733333</td>\n",
       "    </tr>\n",
       "    <tr>\n",
       "      <th>Deaths</th>\n",
       "      <td>3497.593750</td>\n",
       "      <td>17154.000000</td>\n",
       "      <td>12486.666667</td>\n",
       "    </tr>\n",
       "    <tr>\n",
       "      <th>Case_Fatality_Ratio</th>\n",
       "      <td>1.297728</td>\n",
       "      <td>2.109361</td>\n",
       "      <td>3.509479</td>\n",
       "    </tr>\n",
       "    <tr>\n",
       "      <th>deaths_per_population</th>\n",
       "      <td>0.000834</td>\n",
       "      <td>0.001244</td>\n",
       "      <td>0.001876</td>\n",
       "    </tr>\n",
       "    <tr>\n",
       "      <th>confirmed_per_population</th>\n",
       "      <td>0.065681</td>\n",
       "      <td>0.060246</td>\n",
       "      <td>0.055360</td>\n",
       "    </tr>\n",
       "    <tr>\n",
       "      <th>unemp_year_rate</th>\n",
       "      <td>6.655312</td>\n",
       "      <td>9.042500</td>\n",
       "      <td>8.963333</td>\n",
       "    </tr>\n",
       "  </tbody>\n",
       "</table>\n",
       "</div>"
      ],
      "text/plain": [
       "cluster                                0             1             2\n",
       "Median household income     62974.718750  62865.250000  83475.666667\n",
       "Poverty rate                   11.846875     12.300000      9.533333\n",
       "hospital                      101.375000    223.500000     83.000000\n",
       "White Population               83.756250     78.450000     75.833333\n",
       "Africa-American Population     10.243750     15.300000     12.733333\n",
       "Hispanic population             7.778125     14.250000     16.733333\n",
       "Deaths                       3497.593750  17154.000000  12486.666667\n",
       "Case_Fatality_Ratio             1.297728      2.109361      3.509479\n",
       "deaths_per_population           0.000834      0.001244      0.001876\n",
       "confirmed_per_population        0.065681      0.060246      0.055360\n",
       "unemp_year_rate                 6.655312      9.042500      8.963333"
      ]
     },
     "execution_count": 357,
     "metadata": {},
     "output_type": "execute_result"
    }
   ],
   "source": [
    "features.groupby('cluster').mean().T.drop(columns=-1)"
   ]
  },
  {
   "cell_type": "markdown",
   "metadata": {},
   "source": [
    "**Findings:** Judging by the clusters we have created we can see that there are a couple of notable differences among each pocket. Consistent with our EDA we notice that across each cluster, as CFR rises, so do the minority populations, while inversely the white population percentage decreases. It is also worth pointing out that there is a similar trend with deaths per capita, once again supporting what we saw with the correlational EDA analysis we performed earlier. While the clustering method is far from perfect, this should be enough to let us draw a conclusion that covid, particularly CFR and deaths per capita, disproportionately affect minority communities at a concerning rate. "
   ]
  },
  {
   "cell_type": "markdown",
   "metadata": {},
   "source": [
    "For exploratory sake let's take a look at the same features but with different parameters:"
   ]
  },
  {
   "cell_type": "code",
   "execution_count": 358,
   "metadata": {},
   "outputs": [],
   "source": [
    "features_2 = features.copy()\n",
    "ss = StandardScaler()\n",
    "X_scaled_2 = ss.fit_transform(features_2)"
   ]
  },
  {
   "cell_type": "code",
   "execution_count": 359,
   "metadata": {},
   "outputs": [],
   "source": [
    "#instantiating and setting the model paramters:\n",
    "dbscan_2 = DBSCAN(eps=2.5, min_samples=2)\n",
    "\n",
    "#fitting the model to our scaled data:\n",
    "dbscan_2.fit(X_scaled_2)\n",
    "\n",
    "#creating a cluster column with the labels that our model was able to create:\n",
    "features_2['cluster'] = dbscan_2.labels_"
   ]
  },
  {
   "cell_type": "code",
   "execution_count": 360,
   "metadata": {},
   "outputs": [
    {
     "data": {
      "text/html": [
       "<div>\n",
       "<style scoped>\n",
       "    .dataframe tbody tr th:only-of-type {\n",
       "        vertical-align: middle;\n",
       "    }\n",
       "\n",
       "    .dataframe tbody tr th {\n",
       "        vertical-align: top;\n",
       "    }\n",
       "\n",
       "    .dataframe thead th {\n",
       "        text-align: right;\n",
       "    }\n",
       "</style>\n",
       "<table border=\"1\" class=\"dataframe\">\n",
       "  <thead>\n",
       "    <tr style=\"text-align: right;\">\n",
       "      <th>cluster</th>\n",
       "      <th>0</th>\n",
       "      <th>1</th>\n",
       "      <th>2</th>\n",
       "      <th>3</th>\n",
       "    </tr>\n",
       "  </thead>\n",
       "  <tbody>\n",
       "    <tr>\n",
       "      <th>Median household income</th>\n",
       "      <td>62974.718750</td>\n",
       "      <td>83475.666667</td>\n",
       "      <td>62865.250000</td>\n",
       "      <td>48432.500000</td>\n",
       "    </tr>\n",
       "    <tr>\n",
       "      <th>Poverty rate</th>\n",
       "      <td>11.846875</td>\n",
       "      <td>9.533333</td>\n",
       "      <td>12.300000</td>\n",
       "      <td>19.300000</td>\n",
       "    </tr>\n",
       "    <tr>\n",
       "      <th>hospital</th>\n",
       "      <td>101.375000</td>\n",
       "      <td>83.000000</td>\n",
       "      <td>223.500000</td>\n",
       "      <td>164.500000</td>\n",
       "    </tr>\n",
       "    <tr>\n",
       "      <th>White Population</th>\n",
       "      <td>83.756250</td>\n",
       "      <td>75.833333</td>\n",
       "      <td>78.450000</td>\n",
       "      <td>61.450000</td>\n",
       "    </tr>\n",
       "    <tr>\n",
       "      <th>Africa-American Population</th>\n",
       "      <td>10.243750</td>\n",
       "      <td>12.733333</td>\n",
       "      <td>15.300000</td>\n",
       "      <td>36.150000</td>\n",
       "    </tr>\n",
       "    <tr>\n",
       "      <th>Hispanic population</th>\n",
       "      <td>7.778125</td>\n",
       "      <td>16.733333</td>\n",
       "      <td>14.250000</td>\n",
       "      <td>4.200000</td>\n",
       "    </tr>\n",
       "    <tr>\n",
       "      <th>Deaths</th>\n",
       "      <td>3497.593750</td>\n",
       "      <td>12486.666667</td>\n",
       "      <td>17154.000000</td>\n",
       "      <td>6137.500000</td>\n",
       "    </tr>\n",
       "    <tr>\n",
       "      <th>Case_Fatality_Ratio</th>\n",
       "      <td>1.297728</td>\n",
       "      <td>3.509479</td>\n",
       "      <td>2.109361</td>\n",
       "      <td>2.296607</td>\n",
       "    </tr>\n",
       "    <tr>\n",
       "      <th>deaths_per_population</th>\n",
       "      <td>0.000834</td>\n",
       "      <td>0.001876</td>\n",
       "      <td>0.001244</td>\n",
       "      <td>0.001610</td>\n",
       "    </tr>\n",
       "    <tr>\n",
       "      <th>confirmed_per_population</th>\n",
       "      <td>0.065681</td>\n",
       "      <td>0.055360</td>\n",
       "      <td>0.060246</td>\n",
       "      <td>0.070166</td>\n",
       "    </tr>\n",
       "    <tr>\n",
       "      <th>unemp_year_rate</th>\n",
       "      <td>6.655312</td>\n",
       "      <td>8.963333</td>\n",
       "      <td>9.042500</td>\n",
       "      <td>8.420000</td>\n",
       "    </tr>\n",
       "  </tbody>\n",
       "</table>\n",
       "</div>"
      ],
      "text/plain": [
       "cluster                                0             1             2  \\\n",
       "Median household income     62974.718750  83475.666667  62865.250000   \n",
       "Poverty rate                   11.846875      9.533333     12.300000   \n",
       "hospital                      101.375000     83.000000    223.500000   \n",
       "White Population               83.756250     75.833333     78.450000   \n",
       "Africa-American Population     10.243750     12.733333     15.300000   \n",
       "Hispanic population             7.778125     16.733333     14.250000   \n",
       "Deaths                       3497.593750  12486.666667  17154.000000   \n",
       "Case_Fatality_Ratio             1.297728      3.509479      2.109361   \n",
       "deaths_per_population           0.000834      0.001876      0.001244   \n",
       "confirmed_per_population        0.065681      0.055360      0.060246   \n",
       "unemp_year_rate                 6.655312      8.963333      9.042500   \n",
       "\n",
       "cluster                                3  \n",
       "Median household income     48432.500000  \n",
       "Poverty rate                   19.300000  \n",
       "hospital                      164.500000  \n",
       "White Population               61.450000  \n",
       "Africa-American Population     36.150000  \n",
       "Hispanic population             4.200000  \n",
       "Deaths                       6137.500000  \n",
       "Case_Fatality_Ratio             2.296607  \n",
       "deaths_per_population           0.001610  \n",
       "confirmed_per_population        0.070166  \n",
       "unemp_year_rate                 8.420000  "
      ]
     },
     "execution_count": 360,
     "metadata": {},
     "output_type": "execute_result"
    }
   ],
   "source": [
    "features_2.groupby('cluster').mean().T.drop(columns=-1)"
   ]
  },
  {
   "cell_type": "markdown",
   "metadata": {},
   "source": [
    "**Findings:** Even with this different clustering we can still see a similar trend in disproportions across racial demogrpahics. With higher CFR rates we see a trending of increasing minority populations whereas the white populations are still negatively correlated. Again, with a different clustering we are still seeing the trends that we have suspected throughout our EDA and our first modeling attempts.  "
   ]
  },
  {
   "cell_type": "code",
   "execution_count": null,
   "metadata": {},
   "outputs": [],
   "source": []
  }
 ],
 "metadata": {
  "kernelspec": {
   "display_name": "Python 3",
   "language": "python",
   "name": "python3"
  },
  "language_info": {
   "codemirror_mode": {
    "name": "ipython",
    "version": 3
   },
   "file_extension": ".py",
   "mimetype": "text/x-python",
   "name": "python",
   "nbconvert_exporter": "python",
   "pygments_lexer": "ipython3",
   "version": "3.8.5"
  }
 },
 "nbformat": 4,
 "nbformat_minor": 4
}
